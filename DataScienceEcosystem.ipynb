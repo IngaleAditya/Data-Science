{
 "cells": [
  {
   "cell_type": "markdown",
   "id": "816daa03-d54a-4d75-8802-e62afa2fb1e8",
   "metadata": {},
   "source": [
    "## In this notebook, Data Science Tools and Ecosystem are summarized <!--H2-->"
   ]
  },
  {
   "cell_type": "markdown",
   "id": "3f0c60f4-c583-4d6a-9b75-652734b71d4c",
   "metadata": {},
   "source": [
    "In this notebook, Data Science Tools and Ecosystem are summarized.\n",
    "\n"
   ]
  },
  {
   "cell_type": "markdown",
   "id": "767dbba2-e86c-4455-b320-a6df5c9b0381",
   "metadata": {},
   "source": [
    "Some of the popular languages that Data Scientists use are:\n",
    "\n",
    "1. Python  \n",
    "2. R  \n",
    "3. SQL  \n",
    "4. Julia  \n",
    "5. Java  \n"
   ]
  },
  {
   "cell_type": "markdown",
   "id": "1d9d8844-dc91-4a39-8b76-3faeb72d108f",
   "metadata": {},
   "source": [
    "Some of the commonly used libraries used by Data Scientists include:\n",
    "\n",
    "1. NumPy\n",
    "2. Pandas\n",
    "3. Matplotlib\n",
    "4. Scikit-learn\n",
    "5. TensorFlow"
   ]
  },
  {
   "cell_type": "markdown",
   "id": "999c142b-dc7d-4b5f-8e4b-4a0d9d223369",
   "metadata": {},
   "source": [
    "Data Science Tools:\n",
    "\n",
    "|Data Science Tools|\n",
    "|------------------|\n",
    "|Jupyter Notebook  |\n",
    "|Jupyter Lab       |\n",
    "|R Studios         |\n",
    "|VS code           |\n"
   ]
  },
  {
   "cell_type": "markdown",
   "id": "613b747d-1cea-414a-a753-5c1b05018c86",
   "metadata": {},
   "source": [
    "### H3 Below are a few examples of evaluating arithmetic expressions in Python.\n",
    "\n"
   ]
  },
  {
   "cell_type": "code",
   "execution_count": 24,
   "id": "b77f7ba0-5d1c-4251-b4ac-7428cd32b498",
   "metadata": {},
   "outputs": [
    {
     "data": {
      "text/plain": [
       "17"
      ]
     },
     "execution_count": 24,
     "metadata": {},
     "output_type": "execute_result"
    }
   ],
   "source": [
    "# This a simple arithmetic expression to mutiply then add integers\n",
    "(3*4)+5\n"
   ]
  },
  {
   "cell_type": "code",
   "execution_count": 28,
   "id": "34e53128-5322-41e6-b756-0f53f96600d3",
   "metadata": {},
   "outputs": [
    {
     "name": "stdout",
     "output_type": "stream",
     "text": [
      "3.3333333333333335\n"
     ]
    }
   ],
   "source": [
    "#This will convert 200 minutes to hours by diving by 60\n",
    "hours = 200 / 60\n",
    "print(hours) "
   ]
  },
  {
   "cell_type": "markdown",
   "id": "81ce0bf7-11c1-404d-bd80-82f6e8ca3048",
   "metadata": {},
   "source": [
    "Author\n",
    "## H2 Aditya Ingale"
   ]
  },
  {
   "cell_type": "code",
   "execution_count": null,
   "id": "4568969c-c217-42a2-8833-a7c74c213272",
   "metadata": {},
   "outputs": [],
   "source": []
  }
 ],
 "metadata": {
  "kernelspec": {
   "display_name": "Python 3 (ipykernel)",
   "language": "python",
   "name": "python3"
  },
  "language_info": {
   "codemirror_mode": {
    "name": "ipython",
    "version": 3
   },
   "file_extension": ".py",
   "mimetype": "text/x-python",
   "name": "python",
   "nbconvert_exporter": "python",
   "pygments_lexer": "ipython3",
   "version": "3.12.8"
  }
 },
 "nbformat": 4,
 "nbformat_minor": 5
}
